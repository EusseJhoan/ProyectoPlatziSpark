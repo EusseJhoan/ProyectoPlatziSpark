{
  "nbformat": 4,
  "nbformat_minor": 0,
  "metadata": {
    "colab": {
      "provenance": [],
      "mount_file_id": "1_MGAJIb4fYYnhFoct7bAkWrPZe2kP_KE",
      "authorship_tag": "ABX9TyNxEH5m/mpFgZu58chl3vu1"
    },
    "kernelspec": {
      "name": "python3",
      "display_name": "Python 3"
    },
    "language_info": {
      "name": "python"
    }
  },
  "cells": [
    {
      "cell_type": "markdown",
      "source": [
        "Proyecto realizado para el curso fundamentos de Spark para Big Data basado en los contenidos del curso Spark de Udacity:\n",
        "\n",
        "https://www.udacity.com/course/learn-spark-at-udacity--ud2002\n"
      ],
      "metadata": {
        "id": "I7nq9KxWp8sF"
      }
    },
    {
      "cell_type": "code",
      "source": [
        "!apt-get install openjdk-8-jdk-headless -qq > /dev/null\n",
        "!wget -q http://archive.apache.org/dist/spark/spark-3.1.1/spark-3.1.1-bin-hadoop3.2.tgz\n",
        "!tar xf spark-3.1.1-bin-hadoop3.2.tgz\n",
        "!pip install -q findspark"
      ],
      "metadata": {
        "id": "t-eBpuFO75cm"
      },
      "execution_count": 1,
      "outputs": []
    },
    {
      "cell_type": "code",
      "source": [
        "import os\n",
        "os.environ[\"JAVA_HOME\"] = \"/usr/lib/jvm/java-8-openjdk-amd64\"\n",
        "os.environ[\"SPARK_HOME\"] = \"/content/spark-3.1.1-bin-hadoop3.2\""
      ],
      "metadata": {
        "id": "PGODBYJa8pCD"
      },
      "execution_count": 2,
      "outputs": []
    },
    {
      "cell_type": "code",
      "source": [
        "import findspark\n",
        "findspark.init()\n",
        "from pyspark.sql import SparkSession\n",
        "from pyspark.sql.functions import desc\n",
        "from pyspark.sql.functions import udf\n",
        "from pyspark.sql.types import IntegerType\n",
        "from pyspark.sql import Window\n",
        "from pyspark.sql.functions import desc\n",
        "from pyspark.sql.functions import sum as Fsum\n",
        "import datetime\n",
        "import matplotlib.pyplot as plt\n",
        "import pandas as pd"
      ],
      "metadata": {
        "id": "vwqylTkX7yj8"
      },
      "execution_count": 44,
      "outputs": []
    },
    {
      "cell_type": "code",
      "source": [
        "spark=SparkSession.builder.appName(\"Proyecto\").getOrCreate()"
      ],
      "metadata": {
        "id": "Qv3Kiy819ELs"
      },
      "execution_count": 5,
      "outputs": []
    },
    {
      "cell_type": "code",
      "source": [
        "path = \"drive/MyDrive/sparkify_log_small.json\" #Ruta de archivo de donde se cargara datos\n",
        "user_log = spark.read.json(path) #cargar los datos (JSON)"
      ],
      "metadata": {
        "id": "jN9O8Bnl_O2z"
      },
      "execution_count": 7,
      "outputs": []
    },
    {
      "cell_type": "code",
      "source": [
        "user_log.printSchema() #Visualizar esquema de datos"
      ],
      "metadata": {
        "id": "HYUId3d9BWY2",
        "colab": {
          "base_uri": "https://localhost:8080/"
        },
        "outputId": "1dbb4567-49b3-4a61-9728-b0c308943df6"
      },
      "execution_count": 8,
      "outputs": [
        {
          "output_type": "stream",
          "name": "stdout",
          "text": [
            "root\n",
            " |-- artist: string (nullable = true)\n",
            " |-- auth: string (nullable = true)\n",
            " |-- firstName: string (nullable = true)\n",
            " |-- gender: string (nullable = true)\n",
            " |-- itemInSession: long (nullable = true)\n",
            " |-- lastName: string (nullable = true)\n",
            " |-- length: double (nullable = true)\n",
            " |-- level: string (nullable = true)\n",
            " |-- location: string (nullable = true)\n",
            " |-- method: string (nullable = true)\n",
            " |-- page: string (nullable = true)\n",
            " |-- registration: long (nullable = true)\n",
            " |-- sessionId: long (nullable = true)\n",
            " |-- song: string (nullable = true)\n",
            " |-- status: long (nullable = true)\n",
            " |-- ts: long (nullable = true)\n",
            " |-- userAgent: string (nullable = true)\n",
            " |-- userId: string (nullable = true)\n",
            "\n"
          ]
        }
      ]
    },
    {
      "cell_type": "code",
      "source": [
        "user_log.show(n=1) #mostrar una fila de la tabla"
      ],
      "metadata": {
        "colab": {
          "base_uri": "https://localhost:8080/"
        },
        "id": "A_yRIePdBqhS",
        "outputId": "7841eae2-8dec-4e53-a11c-9a2232ea5a44"
      },
      "execution_count": 9,
      "outputs": [
        {
          "output_type": "stream",
          "name": "stdout",
          "text": [
            "+-------------+---------+---------+------+-------------+--------+---------+-----+--------------------+------+--------+-------------+---------+--------------------+------+-------------+--------------------+------+\n",
            "|       artist|     auth|firstName|gender|itemInSession|lastName|   length|level|            location|method|    page| registration|sessionId|                song|status|           ts|           userAgent|userId|\n",
            "+-------------+---------+---------+------+-------------+--------+---------+-----+--------------------+------+--------+-------------+---------+--------------------+------+-------------+--------------------+------+\n",
            "|Showaddywaddy|Logged In|  Kenneth|     M|          112|Matthews|232.93342| paid|Charlotte-Concord...|   PUT|NextSong|1509380319284|     5132|Christmas Tears W...|   200|1513720872284|\"Mozilla/5.0 (Win...|  1046|\n",
            "+-------------+---------+---------+------+-------------+--------+---------+-----+--------------------+------+--------+-------------+---------+--------------------+------+-------------+--------------------+------+\n",
            "only showing top 1 row\n",
            "\n"
          ]
        }
      ]
    },
    {
      "cell_type": "code",
      "source": [
        "user_log.count() #Contar las filas"
      ],
      "metadata": {
        "colab": {
          "base_uri": "https://localhost:8080/"
        },
        "id": "BgK3m6DXIBoo",
        "outputId": "1961dc08-fe7e-4e3d-f481-9e0cdd84a16b"
      },
      "execution_count": 10,
      "outputs": [
        {
          "output_type": "execute_result",
          "data": {
            "text/plain": [
              "10000"
            ]
          },
          "metadata": {},
          "execution_count": 10
        }
      ]
    },
    {
      "cell_type": "markdown",
      "source": [
        "Seleccionemos los distinos registros de la columna page"
      ],
      "metadata": {
        "id": "R2cE6e5HrTCE"
      }
    },
    {
      "cell_type": "code",
      "source": [
        "#selecciona una columna con select, con dropDuplicates quita los duplicados con sort los organiza alfabeticamente\n",
        "#y con show los muestra\n",
        "user_log.select(\"page\").dropDuplicates().sort(\"page\").show()"
      ],
      "metadata": {
        "colab": {
          "base_uri": "https://localhost:8080/"
        },
        "id": "z8fok70SIGtP",
        "outputId": "28ae0d86-5068-4078-d282-6fbe3f5d9bff"
      },
      "execution_count": null,
      "outputs": [
        {
          "output_type": "stream",
          "name": "stdout",
          "text": [
            "+----------------+\n",
            "|            page|\n",
            "+----------------+\n",
            "|           About|\n",
            "|       Downgrade|\n",
            "|           Error|\n",
            "|            Help|\n",
            "|            Home|\n",
            "|           Login|\n",
            "|          Logout|\n",
            "|        NextSong|\n",
            "|   Save Settings|\n",
            "|        Settings|\n",
            "|Submit Downgrade|\n",
            "|  Submit Upgrade|\n",
            "|         Upgrade|\n",
            "+----------------+\n",
            "\n"
          ]
        }
      ]
    },
    {
      "cell_type": "markdown",
      "source": [
        "Veamos los registros en las columnas userId, firstname, page y song para el usuario con userId 1046"
      ],
      "metadata": {
        "id": "JbVkamk_rj0L"
      }
    },
    {
      "cell_type": "code",
      "source": [
        "#Filtra para el usuario 1046 el registro con esas 4 columnas\n",
        "user_log.select([\"userId\", \"firstname\",\"page\", \"song\"]).where(user_log.userId == \"1046\").collect()"
      ],
      "metadata": {
        "colab": {
          "base_uri": "https://localhost:8080/"
        },
        "id": "URG8Pud4I48I",
        "outputId": "adf6466b-3320-4a67-84b5-211ee0e62e3b"
      },
      "execution_count": 11,
      "outputs": [
        {
          "output_type": "execute_result",
          "data": {
            "text/plain": [
              "[Row(userId='1046', firstname='Kenneth', page='NextSong', song='Christmas Tears Will Fall'),\n",
              " Row(userId='1046', firstname='Kenneth', page='NextSong', song='Be Wary Of A Woman'),\n",
              " Row(userId='1046', firstname='Kenneth', page='NextSong', song='Public Enemy No.1'),\n",
              " Row(userId='1046', firstname='Kenneth', page='NextSong', song='Reign Of The Tyrants'),\n",
              " Row(userId='1046', firstname='Kenneth', page='NextSong', song='Father And Son'),\n",
              " Row(userId='1046', firstname='Kenneth', page='NextSong', song='No. 5'),\n",
              " Row(userId='1046', firstname='Kenneth', page='NextSong', song='Seventeen'),\n",
              " Row(userId='1046', firstname='Kenneth', page='Home', song=None),\n",
              " Row(userId='1046', firstname='Kenneth', page='NextSong', song='War on war'),\n",
              " Row(userId='1046', firstname='Kenneth', page='NextSong', song='Killermont Street'),\n",
              " Row(userId='1046', firstname='Kenneth', page='NextSong', song='Black & Blue'),\n",
              " Row(userId='1046', firstname='Kenneth', page='Logout', song=None),\n",
              " Row(userId='1046', firstname='Kenneth', page='Home', song=None),\n",
              " Row(userId='1046', firstname='Kenneth', page='NextSong', song='Heads Will Roll'),\n",
              " Row(userId='1046', firstname='Kenneth', page='NextSong', song='Bleed It Out [Live At Milton Keynes]'),\n",
              " Row(userId='1046', firstname='Kenneth', page='NextSong', song='Clocks'),\n",
              " Row(userId='1046', firstname='Kenneth', page='NextSong', song='Love Rain'),\n",
              " Row(userId='1046', firstname='Kenneth', page='NextSong', song=\"Ry Ry's Song (Album Version)\"),\n",
              " Row(userId='1046', firstname='Kenneth', page='NextSong', song='The Invisible Man'),\n",
              " Row(userId='1046', firstname='Kenneth', page='NextSong', song='Catch You Baby (Steve Pitron & Max Sanna Radio Edit)'),\n",
              " Row(userId='1046', firstname='Kenneth', page='NextSong', song='Ask The Mountains'),\n",
              " Row(userId='1046', firstname='Kenneth', page='NextSong', song='Given Up (Album Version)'),\n",
              " Row(userId='1046', firstname='Kenneth', page='NextSong', song='El Cuatrero'),\n",
              " Row(userId='1046', firstname='Kenneth', page='NextSong', song='Hero/Heroine'),\n",
              " Row(userId='1046', firstname='Kenneth', page='NextSong', song='Spring'),\n",
              " Row(userId='1046', firstname='Kenneth', page='NextSong', song='Rising Moon'),\n",
              " Row(userId='1046', firstname='Kenneth', page='NextSong', song='Tough Little Boys'),\n",
              " Row(userId='1046', firstname='Kenneth', page='NextSong', song=\"Qu'Est-Ce Que T'Es Belle\"),\n",
              " Row(userId='1046', firstname='Kenneth', page='NextSong', song='Secrets'),\n",
              " Row(userId='1046', firstname='Kenneth', page='NextSong', song='Under The Gun')]"
            ]
          },
          "metadata": {},
          "execution_count": 11
        }
      ]
    },
    {
      "cell_type": "markdown",
      "source": [
        "Analicemos el numero de canciones que se escuchan por hora"
      ],
      "metadata": {
        "id": "DzvfMdfGsATm"
      }
    },
    {
      "cell_type": "code",
      "source": [
        "#Funcion para obtener la hora de una columna\n",
        "get_hour = udf(lambda x: datetime.datetime.fromtimestamp(x / 1000.0). hour)\n",
        "\n",
        "#Devuelve un nuevo DataFrame añadiendo una columna o sustituyendo la columna existente que tiene el mismo nombre\n",
        "user_log = user_log.withColumn(\"hour\", get_hour(user_log.ts))"
      ],
      "metadata": {
        "id": "xHy3LPQFMLQW"
      },
      "execution_count": 14,
      "outputs": []
    },
    {
      "cell_type": "code",
      "source": [
        "user_log.head()"
      ],
      "metadata": {
        "colab": {
          "base_uri": "https://localhost:8080/"
        },
        "id": "f2sKVmHGSJ88",
        "outputId": "47a654be-f0c4-474b-fcfd-534d4c9ff256"
      },
      "execution_count": 16,
      "outputs": [
        {
          "output_type": "execute_result",
          "data": {
            "text/plain": [
              "Row(artist='Showaddywaddy', auth='Logged In', firstName='Kenneth', gender='M', itemInSession=112, lastName='Matthews', length=232.93342, level='paid', location='Charlotte-Concord-Gastonia, NC-SC', method='PUT', page='NextSong', registration=1509380319284, sessionId=5132, song='Christmas Tears Will Fall', status=200, ts=1513720872284, userAgent='\"Mozilla/5.0 (Windows NT 6.1) AppleWebKit/537.36 (KHTML, like Gecko) Chrome/36.0.1985.125 Safari/537.36\"', userId='1046', hour='22')"
            ]
          },
          "metadata": {},
          "execution_count": 16
        }
      ]
    },
    {
      "cell_type": "code",
      "source": [
        "#Filtra filas con la condición page == \"NextSong\", agrupa por hora, cuenta filas en cada grupo y ordena por hora\n",
        "songs_in_hour = user_log.filter(user_log.page == \"NextSong\").groupby(user_log.hour).count().orderBy(user_log.hour.cast(\"float\"))"
      ],
      "metadata": {
        "id": "1z0Rua-nSbnL"
      },
      "execution_count": 17,
      "outputs": []
    },
    {
      "cell_type": "code",
      "source": [
        "songs_in_hour.show()"
      ],
      "metadata": {
        "colab": {
          "base_uri": "https://localhost:8080/"
        },
        "id": "4GXpaRi_aNaw",
        "outputId": "c80c1912-0219-448d-a321-1cfd84af4f74"
      },
      "execution_count": 18,
      "outputs": [
        {
          "output_type": "stream",
          "name": "stdout",
          "text": [
            "+----+-----+\n",
            "|hour|count|\n",
            "+----+-----+\n",
            "|   0|  456|\n",
            "|   1|  454|\n",
            "|   2|  382|\n",
            "|   3|  302|\n",
            "|   4|  352|\n",
            "|   5|  276|\n",
            "|   6|  348|\n",
            "|   7|  358|\n",
            "|   8|  375|\n",
            "|   9|  249|\n",
            "|  10|  216|\n",
            "|  11|  228|\n",
            "|  12|  251|\n",
            "|  13|  339|\n",
            "|  14|  462|\n",
            "|  15|  479|\n",
            "|  16|  484|\n",
            "|  17|  430|\n",
            "|  18|  362|\n",
            "|  19|  295|\n",
            "+----+-----+\n",
            "only showing top 20 rows\n",
            "\n"
          ]
        }
      ]
    },
    {
      "cell_type": "code",
      "source": [
        "songs_in_hour_pd = songs_in_hour.toPandas() #convertir a dataframe de Pandas\n",
        "songs_in_hour_pd.hour = pd.to_numeric(songs_in_hour_pd.hour) #convierte elementos de tipo horaria en tipo números (una buena práctica a aplicar siempre)"
      ],
      "metadata": {
        "id": "L9PJNf2YaR04"
      },
      "execution_count": 19,
      "outputs": []
    },
    {
      "cell_type": "code",
      "source": [
        "plt.scatter(songs_in_hour_pd[\"hour\"], songs_in_hour_pd[\"count\"])\n",
        "plt.xlim(-1, 24);\n",
        "plt.ylim(0, 1.2 * max(songs_in_hour_pd[\"count\"]))\n",
        "plt.xlabel(\"Hour\")\n",
        "plt.ylabel(\"Songs played\");"
      ],
      "metadata": {
        "colab": {
          "base_uri": "https://localhost:8080/",
          "height": 449
        },
        "id": "AYjklYTabcqs",
        "outputId": "543f820f-3d81-4501-97d6-cb86a84b187d"
      },
      "execution_count": 20,
      "outputs": [
        {
          "output_type": "display_data",
          "data": {
            "text/plain": [
              "<Figure size 640x480 with 1 Axes>"
            ],
            "image/png": "[encoded data removed]"
          },
          "metadata": {}
        }
      ]
    },
    {
      "cell_type": "markdown",
      "source": [
        "Limpiemos registros de usuarios no registrados (No tiene registro en UserId o sessionId)"
      ],
      "metadata": {
        "id": "CXLou1TctShA"
      }
    },
    {
      "cell_type": "code",
      "source": [
        "#eliminar valores con NaN UserId o sessionId\n",
        "user_log_valid = user_log.dropna(how = \"any\", subset = [\"userId\", \"sessionId\"])"
      ],
      "metadata": {
        "id": "CTDKp0Q1beoB"
      },
      "execution_count": 21,
      "outputs": []
    },
    {
      "cell_type": "code",
      "source": [
        "user_log_valid.count()"
      ],
      "metadata": {
        "colab": {
          "base_uri": "https://localhost:8080/"
        },
        "id": "Khh5LuCJc6O3",
        "outputId": "64317888-bcd7-4139-b9cf-740b19a27a43"
      },
      "execution_count": 22,
      "outputs": [
        {
          "output_type": "execute_result",
          "data": {
            "text/plain": [
              "10000"
            ]
          },
          "metadata": {},
          "execution_count": 22
        }
      ]
    },
    {
      "cell_type": "code",
      "source": [
        "user_log.select(\"userId\").dropDuplicates().sort(\"userId\").show()"
      ],
      "metadata": {
        "colab": {
          "base_uri": "https://localhost:8080/"
        },
        "id": "vihlVm87c-vN",
        "outputId": "71dc7e23-5a8a-4013-e15e-82de9e219c39"
      },
      "execution_count": 23,
      "outputs": [
        {
          "output_type": "stream",
          "name": "stdout",
          "text": [
            "+------+\n",
            "|userId|\n",
            "+------+\n",
            "|      |\n",
            "|    10|\n",
            "|   100|\n",
            "|  1000|\n",
            "|  1003|\n",
            "|  1005|\n",
            "|  1006|\n",
            "|  1017|\n",
            "|  1019|\n",
            "|  1020|\n",
            "|  1022|\n",
            "|  1025|\n",
            "|  1030|\n",
            "|  1035|\n",
            "|  1037|\n",
            "|   104|\n",
            "|  1040|\n",
            "|  1042|\n",
            "|  1043|\n",
            "|  1046|\n",
            "+------+\n",
            "only showing top 20 rows\n",
            "\n"
          ]
        }
      ]
    },
    {
      "cell_type": "code",
      "source": [
        "#generar dataframe conservando sólo los userId con números válidos (eliminando los userId con espacio vacío)\n",
        "user_log_valid = user_log_valid.filter(user_log_valid[\"userId\"] != \"\")"
      ],
      "metadata": {
        "id": "CFY5EIwedHmu"
      },
      "execution_count": 25,
      "outputs": []
    },
    {
      "cell_type": "code",
      "source": [
        "user_log_valid.count()"
      ],
      "metadata": {
        "colab": {
          "base_uri": "https://localhost:8080/"
        },
        "id": "CBfEA5LQeQ1n",
        "outputId": "96134eae-92ae-4aa4-bab6-bc9db190ad95"
      },
      "execution_count": 26,
      "outputs": [
        {
          "output_type": "execute_result",
          "data": {
            "text/plain": [
              "9664"
            ]
          },
          "metadata": {},
          "execution_count": 26
        }
      ]
    },
    {
      "cell_type": "markdown",
      "source": [
        "Ánalisis de personas que hacen downgrade a su suscripción"
      ],
      "metadata": {
        "id": "JAY1TnqPt6Y8"
      }
    },
    {
      "cell_type": "code",
      "source": [
        "#Returnar la primera persona en hacer downgrade de la suscripción\n",
        "user_log_valid.filter(\"page = 'Submit Downgrade'\").show()\n"
      ],
      "metadata": {
        "colab": {
          "base_uri": "https://localhost:8080/"
        },
        "id": "geakM1VVeUfl",
        "outputId": "794b7cb4-b586-47c6-e821-e61947d367b1"
      },
      "execution_count": 27,
      "outputs": [
        {
          "output_type": "stream",
          "name": "stdout",
          "text": [
            "+------+---------+---------+------+-------------+--------+------+-----+--------------------+------+----------------+-------------+---------+----+------+-------------+--------------------+------+----+\n",
            "|artist|     auth|firstName|gender|itemInSession|lastName|length|level|            location|method|            page| registration|sessionId|song|status|           ts|           userAgent|userId|hour|\n",
            "+------+---------+---------+------+-------------+--------+------+-----+--------------------+------+----------------+-------------+---------+----+------+-------------+--------------------+------+----+\n",
            "|  null|Logged In|    Kelly|     F|           24|  Newton|  null| paid|Houston-The Woodl...|   PUT|Submit Downgrade|1513283366284|     5931|null|   307|1513768454284|Mozilla/5.0 (Wind...|  1138|  11|\n",
            "+------+---------+---------+------+-------------+--------+------+-----+--------------------+------+----------------+-------------+---------+----+------+-------------+--------------------+------+----+\n",
            "\n"
          ]
        }
      ]
    },
    {
      "cell_type": "code",
      "source": [
        "#Muestra las columnas señaladas para el userId en específico\n",
        "user_log.select([\"userId\", \"firstname\", \"page\", \"level\", \"song\"]).where(user_log.userId == \"1138\").collect()\n"
      ],
      "metadata": {
        "colab": {
          "base_uri": "https://localhost:8080/"
        },
        "id": "E_lIT8mhfDIY",
        "outputId": "d03bfdba-0e68-410a-e7e9-b4af3fc335b6"
      },
      "execution_count": 28,
      "outputs": [
        {
          "output_type": "execute_result",
          "data": {
            "text/plain": [
              "[Row(userId='1138', firstname='Kelly', page='Home', level='paid', song=None),\n",
              " Row(userId='1138', firstname='Kelly', page='NextSong', level='paid', song='Everybody Everybody'),\n",
              " Row(userId='1138', firstname='Kelly', page='NextSong', level='paid', song='Gears'),\n",
              " Row(userId='1138', firstname='Kelly', page='NextSong', level='paid', song='Use Somebody'),\n",
              " Row(userId='1138', firstname='Kelly', page='NextSong', level='paid', song='Love Of My Life (1993 Digital Remaster)'),\n",
              " Row(userId='1138', firstname='Kelly', page='NextSong', level='paid', song='Down In The Valley Woe'),\n",
              " Row(userId='1138', firstname='Kelly', page='NextSong', level='paid', song='Treat Her Like A Lady'),\n",
              " Row(userId='1138', firstname='Kelly', page='NextSong', level='paid', song=\"Everybody Thinks You're An Angel\"),\n",
              " Row(userId='1138', firstname='Kelly', page='NextSong', level='paid', song='Fourteen Wives'),\n",
              " Row(userId='1138', firstname='Kelly', page='NextSong', level='paid', song='Love On The Rocks'),\n",
              " Row(userId='1138', firstname='Kelly', page='NextSong', level='paid', song='Breakeven'),\n",
              " Row(userId='1138', firstname='Kelly', page='NextSong', level='paid', song='Leaf House'),\n",
              " Row(userId='1138', firstname='Kelly', page='NextSong', level='paid', song='NAISEN KANSSA'),\n",
              " Row(userId='1138', firstname='Kelly', page='NextSong', level='paid', song=\"You're In My Heart\"),\n",
              " Row(userId='1138', firstname='Kelly', page='NextSong', level='paid', song='Roll On Down The Highway'),\n",
              " Row(userId='1138', firstname='Kelly', page='NextSong', level='paid', song='Plasticities (Remix)'),\n",
              " Row(userId='1138', firstname='Kelly', page='NextSong', level='paid', song='Secrets'),\n",
              " Row(userId='1138', firstname='Kelly', page='NextSong', level='paid', song='Hello'),\n",
              " Row(userId='1138', firstname='Kelly', page='NextSong', level='paid', song='I Never Told You'),\n",
              " Row(userId='1138', firstname='Kelly', page='NextSong', level='paid', song='Love Break Me'),\n",
              " Row(userId='1138', firstname='Kelly', page='NextSong', level='paid', song='One Touch One Bounce'),\n",
              " Row(userId='1138', firstname='Kelly', page='NextSong', level='paid', song='Undo'),\n",
              " Row(userId='1138', firstname='Kelly', page='NextSong', level='paid', song='Overdue (Blackbeard Remix)'),\n",
              " Row(userId='1138', firstname='Kelly', page='NextSong', level='paid', song='Slave To Love (1999 Digital Remaster)'),\n",
              " Row(userId='1138', firstname='Kelly', page='NextSong', level='paid', song='Stronger'),\n",
              " Row(userId='1138', firstname='Kelly', page='NextSong', level='paid', song='All Of Us (Album Version)'),\n",
              " Row(userId='1138', firstname='Kelly', page='NextSong', level='paid', song='Sehr kosmisch'),\n",
              " Row(userId='1138', firstname='Kelly', page='NextSong', level='paid', song='March Of The Celts'),\n",
              " Row(userId='1138', firstname='Kelly', page='NextSong', level='paid', song='Electricity'),\n",
              " Row(userId='1138', firstname='Kelly', page='NextSong', level='paid', song='Aces High'),\n",
              " Row(userId='1138', firstname='Kelly', page='NextSong', level='paid', song='Bananeira'),\n",
              " Row(userId='1138', firstname='Kelly', page='NextSong', level='paid', song='The General'),\n",
              " Row(userId='1138', firstname='Kelly', page='NextSong', level='paid', song='HÃ\\x83Â©roe De Leyenda (VersiÃ\\x83Â³n Maxi)'),\n",
              " Row(userId='1138', firstname='Kelly', page='NextSong', level='paid', song=\"Don't Stop The Music\"),\n",
              " Row(userId='1138', firstname='Kelly', page='NextSong', level='paid', song=\"You're The One\"),\n",
              " Row(userId='1138', firstname='Kelly', page='NextSong', level='paid', song='Entering White Cecilia'),\n",
              " Row(userId='1138', firstname='Kelly', page='NextSong', level='paid', song='Piccolo Cesare'),\n",
              " Row(userId='1138', firstname='Kelly', page='Help', level='paid', song=None),\n",
              " Row(userId='1138', firstname='Kelly', page='NextSong', level='paid', song='Last Christmas (Album Version)'),\n",
              " Row(userId='1138', firstname='Kelly', page='NextSong', level='paid', song='You Shook Me'),\n",
              " Row(userId='1138', firstname='Kelly', page='NextSong', level='paid', song='Going Steady'),\n",
              " Row(userId='1138', firstname='Kelly', page='NextSong', level='paid', song='My Name Is'),\n",
              " Row(userId='1138', firstname='Kelly', page='NextSong', level='paid', song='Undo'),\n",
              " Row(userId='1138', firstname='Kelly', page='NextSong', level='paid', song='Secrets'),\n",
              " Row(userId='1138', firstname='Kelly', page='NextSong', level='paid', song='Good Times Gone (Album Version)'),\n",
              " Row(userId='1138', firstname='Kelly', page='NextSong', level='paid', song='Angelito'),\n",
              " Row(userId='1138', firstname='Kelly', page='NextSong', level='paid', song='Batdance ( LP Version )'),\n",
              " Row(userId='1138', firstname='Kelly', page='Home', level='paid', song=None),\n",
              " Row(userId='1138', firstname='Kelly', page='NextSong', level='paid', song='DiÃ\\x83Â¡kdal'),\n",
              " Row(userId='1138', firstname='Kelly', page='NextSong', level='paid', song='Whirring'),\n",
              " Row(userId='1138', firstname='Kelly', page='NextSong', level='paid', song='Potholderz (feat. Count Bass D)'),\n",
              " Row(userId='1138', firstname='Kelly', page='NextSong', level='paid', song='Seaside'),\n",
              " Row(userId='1138', firstname='Kelly', page='NextSong', level='paid', song='Louder Than A Bomb'),\n",
              " Row(userId='1138', firstname='Kelly', page='NextSong', level='paid', song='Just Like You'),\n",
              " Row(userId='1138', firstname='Kelly', page='NextSong', level='paid', song=\"You're The One\"),\n",
              " Row(userId='1138', firstname='Kelly', page='NextSong', level='paid', song='Turn It Again (Album Version)'),\n",
              " Row(userId='1138', firstname='Kelly', page='NextSong', level='paid', song='Everywhere I Go'),\n",
              " Row(userId='1138', firstname='Kelly', page='NextSong', level='paid', song=\"Easy Skankin'\"),\n",
              " Row(userId='1138', firstname='Kelly', page='NextSong', level='paid', song='Roses'),\n",
              " Row(userId='1138', firstname='Kelly', page='NextSong', level='paid', song='Killing Me Softly With His Song'),\n",
              " Row(userId='1138', firstname='Kelly', page='NextSong', level='paid', song='The Razor (Album Version)'),\n",
              " Row(userId='1138', firstname='Kelly', page='NextSong', level='paid', song='Idols and Anchors'),\n",
              " Row(userId='1138', firstname='Kelly', page='Downgrade', level='paid', song=None),\n",
              " Row(userId='1138', firstname='Kelly', page='Submit Downgrade', level='paid', song=None),\n",
              " Row(userId='1138', firstname='Kelly', page='Home', level='free', song=None),\n",
              " Row(userId='1138', firstname='Kelly', page='NextSong', level='free', song='Bones'),\n",
              " Row(userId='1138', firstname='Kelly', page='Home', level='free', song=None),\n",
              " Row(userId='1138', firstname='Kelly', page='NextSong', level='free', song='Grenouilles Mantidactylus (Small Frogs)')]"
            ]
          },
          "metadata": {},
          "execution_count": 28
        }
      ]
    },
    {
      "cell_type": "code",
      "source": [
        "#funcion lambda para marcar evento de downgrade. Devuelve 1 si en la columna page el aparece Submit Downgrade sino 0\n",
        "flag_downgrade_event = udf(lambda x: 1 if x == \"Submit Downgrade\" else 0, IntegerType()) #El IntegerType lo pasa a entero"
      ],
      "metadata": {
        "id": "_2N9p3VHfVet"
      },
      "execution_count": 29,
      "outputs": []
    },
    {
      "cell_type": "code",
      "source": [
        "#agrega columna a user_log_valid de nombre downgraded y con valor dado por la función anterior\n",
        "user_log_valid = user_log_valid.withColumn(\"downgraded\", flag_downgrade_event(\"page\"))\n",
        "user_log_valid.head()"
      ],
      "metadata": {
        "colab": {
          "base_uri": "https://localhost:8080/"
        },
        "id": "xXolkmWIg3fY",
        "outputId": "0c3a6e4e-be11-4ece-f7bf-ad90ba774539"
      },
      "execution_count": 30,
      "outputs": [
        {
          "output_type": "execute_result",
          "data": {
            "text/plain": [
              "Row(artist='Showaddywaddy', auth='Logged In', firstName='Kenneth', gender='M', itemInSession=112, lastName='Matthews', length=232.93342, level='paid', location='Charlotte-Concord-Gastonia, NC-SC', method='PUT', page='NextSong', registration=1509380319284, sessionId=5132, song='Christmas Tears Will Fall', status=200, ts=1513720872284, userAgent='\"Mozilla/5.0 (Windows NT 6.1) AppleWebKit/537.36 (KHTML, like Gecko) Chrome/36.0.1985.125 Safari/537.36\"', userId='1046', hour='22', downgraded=0)"
            ]
          },
          "metadata": {},
          "execution_count": 30
        }
      ]
    },
    {
      "cell_type": "code",
      "source": [
        "#crea una ventana donde particiona los datos por UserId, los ordena temporalmente de mayor a menor en el rango todos\n",
        "windowval = Window.partitionBy(\"userId\").orderBy(desc(\"ts\")).rangeBetween(Window.unboundedPreceding, 0)"
      ],
      "metadata": {
        "id": "z2HF-hl4iWBX"
      },
      "execution_count": 41,
      "outputs": []
    },
    {
      "cell_type": "code",
      "source": [
        "user_log_valid = user_log_valid.withColumn(\"phase\", Fsum(\"downgraded\").over(windowval))"
      ],
      "metadata": {
        "id": "fnIXSGhSjU3X"
      },
      "execution_count": 33,
      "outputs": []
    },
    {
      "cell_type": "code",
      "source": [
        "#Lo que muestra está ordenado del evento más viejo al más reciente (pero el Fsum lo hace en el sentido contrario)\n",
        "#lo anterior para que los eventos después de downgrade sumen 0 la fase y los otros 1\n",
        "user_log_valid.select([\"userId\", \"firstname\", \"ts\", \"page\", \"level\", \"phase\"]).where(user_log.userId == \"1138\").sort(\"ts\").collect()"
      ],
      "metadata": {
        "colab": {
          "base_uri": "https://localhost:8080/"
        },
        "id": "a2B4gC6xmGWi",
        "outputId": "d815e1ea-e899-41b8-9e42-73fd285c6ee8"
      },
      "execution_count": 34,
      "outputs": [
        {
          "output_type": "execute_result",
          "data": {
            "text/plain": [
              "[Row(userId='1138', firstname='Kelly', ts=1513729066284, page='Home', level='paid', phase=1),\n",
              " Row(userId='1138', firstname='Kelly', ts=1513729066284, page='NextSong', level='paid', phase=1),\n",
              " Row(userId='1138', firstname='Kelly', ts=1513729313284, page='NextSong', level='paid', phase=1),\n",
              " Row(userId='1138', firstname='Kelly', ts=1513729552284, page='NextSong', level='paid', phase=1),\n",
              " Row(userId='1138', firstname='Kelly', ts=1513729783284, page='NextSong', level='paid', phase=1),\n",
              " Row(userId='1138', firstname='Kelly', ts=1513730001284, page='NextSong', level='paid', phase=1),\n",
              " Row(userId='1138', firstname='Kelly', ts=1513730263284, page='NextSong', level='paid', phase=1),\n",
              " Row(userId='1138', firstname='Kelly', ts=1513730518284, page='NextSong', level='paid', phase=1),\n",
              " Row(userId='1138', firstname='Kelly', ts=1513730768284, page='NextSong', level='paid', phase=1),\n",
              " Row(userId='1138', firstname='Kelly', ts=1513731182284, page='NextSong', level='paid', phase=1),\n",
              " Row(userId='1138', firstname='Kelly', ts=1513731435284, page='NextSong', level='paid', phase=1),\n",
              " Row(userId='1138', firstname='Kelly', ts=1513731695284, page='NextSong', level='paid', phase=1),\n",
              " Row(userId='1138', firstname='Kelly', ts=1513731857284, page='NextSong', level='paid', phase=1),\n",
              " Row(userId='1138', firstname='Kelly', ts=1513732160284, page='NextSong', level='paid', phase=1),\n",
              " Row(userId='1138', firstname='Kelly', ts=1513732302284, page='NextSong', level='paid', phase=1),\n",
              " Row(userId='1138', firstname='Kelly', ts=1513732540284, page='NextSong', level='paid', phase=1),\n",
              " Row(userId='1138', firstname='Kelly', ts=1513732770284, page='NextSong', level='paid', phase=1),\n",
              " Row(userId='1138', firstname='Kelly', ts=1513732994284, page='NextSong', level='paid', phase=1),\n",
              " Row(userId='1138', firstname='Kelly', ts=1513733223284, page='NextSong', level='paid', phase=1),\n",
              " Row(userId='1138', firstname='Kelly', ts=1513733456284, page='NextSong', level='paid', phase=1),\n",
              " Row(userId='1138', firstname='Kelly', ts=1513733738284, page='NextSong', level='paid', phase=1),\n",
              " Row(userId='1138', firstname='Kelly', ts=1513733941284, page='NextSong', level='paid', phase=1),\n",
              " Row(userId='1138', firstname='Kelly', ts=1513734289284, page='NextSong', level='paid', phase=1),\n",
              " Row(userId='1138', firstname='Kelly', ts=1513734598284, page='NextSong', level='paid', phase=1),\n",
              " Row(userId='1138', firstname='Kelly', ts=1513734863284, page='NextSong', level='paid', phase=1),\n",
              " Row(userId='1138', firstname='Kelly', ts=1513735174284, page='NextSong', level='paid', phase=1),\n",
              " Row(userId='1138', firstname='Kelly', ts=1513735385284, page='NextSong', level='paid', phase=1),\n",
              " Row(userId='1138', firstname='Kelly', ts=1513736040284, page='NextSong', level='paid', phase=1),\n",
              " Row(userId='1138', firstname='Kelly', ts=1513736237284, page='NextSong', level='paid', phase=1),\n",
              " Row(userId='1138', firstname='Kelly', ts=1513736446284, page='NextSong', level='paid', phase=1),\n",
              " Row(userId='1138', firstname='Kelly', ts=1513736709284, page='NextSong', level='paid', phase=1),\n",
              " Row(userId='1138', firstname='Kelly', ts=1513736915284, page='NextSong', level='paid', phase=1),\n",
              " Row(userId='1138', firstname='Kelly', ts=1513737160284, page='NextSong', level='paid', phase=1),\n",
              " Row(userId='1138', firstname='Kelly', ts=1513737460284, page='NextSong', level='paid', phase=1),\n",
              " Row(userId='1138', firstname='Kelly', ts=1513737728284, page='NextSong', level='paid', phase=1),\n",
              " Row(userId='1138', firstname='Kelly', ts=1513737936284, page='NextSong', level='paid', phase=1),\n",
              " Row(userId='1138', firstname='Kelly', ts=1513738144284, page='NextSong', level='paid', phase=1),\n",
              " Row(userId='1138', firstname='Kelly', ts=1513738197284, page='Help', level='paid', phase=1),\n",
              " Row(userId='1138', firstname='Kelly', ts=1513738432284, page='NextSong', level='paid', phase=1),\n",
              " Row(userId='1138', firstname='Kelly', ts=1513763195284, page='NextSong', level='paid', phase=1),\n",
              " Row(userId='1138', firstname='Kelly', ts=1513763453284, page='NextSong', level='paid', phase=1),\n",
              " Row(userId='1138', firstname='Kelly', ts=1513763622284, page='NextSong', level='paid', phase=1),\n",
              " Row(userId='1138', firstname='Kelly', ts=1513763890284, page='NextSong', level='paid', phase=1),\n",
              " Row(userId='1138', firstname='Kelly', ts=1513764238284, page='NextSong', level='paid', phase=1),\n",
              " Row(userId='1138', firstname='Kelly', ts=1513764462284, page='NextSong', level='paid', phase=1),\n",
              " Row(userId='1138', firstname='Kelly', ts=1513764782284, page='NextSong', level='paid', phase=1),\n",
              " Row(userId='1138', firstname='Kelly', ts=1513765075284, page='NextSong', level='paid', phase=1),\n",
              " Row(userId='1138', firstname='Kelly', ts=1513765075284, page='Home', level='paid', phase=1),\n",
              " Row(userId='1138', firstname='Kelly', ts=1513765448284, page='NextSong', level='paid', phase=1),\n",
              " Row(userId='1138', firstname='Kelly', ts=1513765655284, page='NextSong', level='paid', phase=1),\n",
              " Row(userId='1138', firstname='Kelly', ts=1513765818284, page='NextSong', level='paid', phase=1),\n",
              " Row(userId='1138', firstname='Kelly', ts=1513766091284, page='NextSong', level='paid', phase=1),\n",
              " Row(userId='1138', firstname='Kelly', ts=1513766189284, page='NextSong', level='paid', phase=1),\n",
              " Row(userId='1138', firstname='Kelly', ts=1513766385284, page='NextSong', level='paid', phase=1),\n",
              " Row(userId='1138', firstname='Kelly', ts=1513766599284, page='NextSong', level='paid', phase=1),\n",
              " Row(userId='1138', firstname='Kelly', ts=1513766838284, page='NextSong', level='paid', phase=1),\n",
              " Row(userId='1138', firstname='Kelly', ts=1513767203284, page='NextSong', level='paid', phase=1),\n",
              " Row(userId='1138', firstname='Kelly', ts=1513767413284, page='NextSong', level='paid', phase=1),\n",
              " Row(userId='1138', firstname='Kelly', ts=1513767643284, page='NextSong', level='paid', phase=1),\n",
              " Row(userId='1138', firstname='Kelly', ts=1513768012284, page='NextSong', level='paid', phase=1),\n",
              " Row(userId='1138', firstname='Kelly', ts=1513768242284, page='NextSong', level='paid', phase=1),\n",
              " Row(userId='1138', firstname='Kelly', ts=1513768452284, page='NextSong', level='paid', phase=1),\n",
              " Row(userId='1138', firstname='Kelly', ts=1513768453284, page='Downgrade', level='paid', phase=1),\n",
              " Row(userId='1138', firstname='Kelly', ts=1513768454284, page='Submit Downgrade', level='paid', phase=1),\n",
              " Row(userId='1138', firstname='Kelly', ts=1513768456284, page='Home', level='free', phase=0),\n",
              " Row(userId='1138', firstname='Kelly', ts=1513814880284, page='NextSong', level='free', phase=0),\n",
              " Row(userId='1138', firstname='Kelly', ts=1513821430284, page='Home', level='free', phase=0),\n",
              " Row(userId='1138', firstname='Kelly', ts=1513833144284, page='NextSong', level='free', phase=0)]"
            ]
          },
          "metadata": {},
          "execution_count": 34
        }
      ]
    },
    {
      "cell_type": "markdown",
      "source": [
        "Con lo anterior podemos observar en que instante el usuario hace un downgrade pues la fase cambia de 1 a 0"
      ],
      "metadata": {
        "id": "om3Ui5S2usam"
      }
    },
    {
      "cell_type": "markdown",
      "source": [
        "Veamos que páginas los usuarios con userId \" \" no visita"
      ],
      "metadata": {
        "id": "fZDtsnhxPOfm"
      }
    },
    {
      "cell_type": "code",
      "source": [
        "user_log.select([\"page\"]).where(user_log.userId == \"\").dropDuplicates().sort(\"page\").show()"
      ],
      "metadata": {
        "colab": {
          "base_uri": "https://localhost:8080/"
        },
        "id": "x5n2DkJwPRxw",
        "outputId": "b20e456e-c198-484c-d2f7-ef9cef3a225b"
      },
      "execution_count": null,
      "outputs": [
        {
          "output_type": "stream",
          "name": "stdout",
          "text": [
            "+-----+\n",
            "| page|\n",
            "+-----+\n",
            "|About|\n",
            "| Help|\n",
            "| Home|\n",
            "|Login|\n",
            "+-----+\n",
            "\n"
          ]
        }
      ]
    },
    {
      "cell_type": "code",
      "source": [
        "user_log.select(\"page\").dropDuplicates().sort(\"page\").show()"
      ],
      "metadata": {
        "colab": {
          "base_uri": "https://localhost:8080/"
        },
        "id": "q2BeYfoEPpu-",
        "outputId": "5cb8e2d2-0ef8-4b43-9dc9-cb06307d59a2"
      },
      "execution_count": null,
      "outputs": [
        {
          "output_type": "stream",
          "name": "stdout",
          "text": [
            "+----------------+\n",
            "|            page|\n",
            "+----------------+\n",
            "|           About|\n",
            "|       Downgrade|\n",
            "|           Error|\n",
            "|            Help|\n",
            "|            Home|\n",
            "|           Login|\n",
            "|          Logout|\n",
            "|        NextSong|\n",
            "|   Save Settings|\n",
            "|        Settings|\n",
            "|Submit Downgrade|\n",
            "|  Submit Upgrade|\n",
            "|         Upgrade|\n",
            "+----------------+\n",
            "\n"
          ]
        }
      ]
    },
    {
      "cell_type": "markdown",
      "source": [
        "Si comparamos las dos tabla vemos que estos usuarios son los que no se registarn en la plataforma y por tanto no escuchan música en ella"
      ],
      "metadata": {
        "id": "LVBZnU1CgT4K"
      }
    },
    {
      "cell_type": "markdown",
      "source": [
        "Veamos el número de usuarias mujeres"
      ],
      "metadata": {
        "id": "3MXGHdTURy6j"
      }
    },
    {
      "cell_type": "code",
      "source": [
        "#Listamos los géneros\n",
        "user_log.select([\"gender\"]).dropDuplicates().show()"
      ],
      "metadata": {
        "colab": {
          "base_uri": "https://localhost:8080/"
        },
        "id": "bDz9i3vzQfK5",
        "outputId": "ca89cd71-384b-41e4-f809-2f900ffd8feb"
      },
      "execution_count": 37,
      "outputs": [
        {
          "output_type": "stream",
          "name": "stdout",
          "text": [
            "+------+\n",
            "|gender|\n",
            "+------+\n",
            "|     F|\n",
            "|  null|\n",
            "|     M|\n",
            "+------+\n",
            "\n"
          ]
        }
      ]
    },
    {
      "cell_type": "code",
      "source": [
        "#Contamos los usuarios femeninos (gender = F)\n",
        "user_log.select([\"userId\",\"gender\"]).where(user_log.gender == \"F\").dropDuplicates([\"userId\"]).count()"
      ],
      "metadata": {
        "colab": {
          "base_uri": "https://localhost:8080/"
        },
        "id": "ck0DlfP6SCrI",
        "outputId": "4840bad3-e4f9-4723-d29e-26ad57b2f910"
      },
      "execution_count": 38,
      "outputs": [
        {
          "output_type": "execute_result",
          "data": {
            "text/plain": [
              "462"
            ]
          },
          "metadata": {},
          "execution_count": 38
        }
      ]
    },
    {
      "cell_type": "markdown",
      "source": [
        "Veamos cuál es el artista más escuchado"
      ],
      "metadata": {
        "id": "nXfMV6cLWKV4"
      }
    },
    {
      "cell_type": "code",
      "source": [
        "\n",
        "user_log.select([\"artist\"]).groupby(user_log.artist).count().orderBy(desc(\"count\")).show()"
      ],
      "metadata": {
        "colab": {
          "base_uri": "https://localhost:8080/"
        },
        "id": "3kCGrckjWt3L",
        "outputId": "5fab977e-3a39-4b0d-dc53-908e7da16ec7"
      },
      "execution_count": null,
      "outputs": [
        {
          "output_type": "stream",
          "name": "stdout",
          "text": [
            "+--------------------+-----+\n",
            "|              artist|count|\n",
            "+--------------------+-----+\n",
            "|                null| 1653|\n",
            "|            Coldplay|   83|\n",
            "|       Kings Of Leon|   69|\n",
            "|Florence + The Ma...|   52|\n",
            "|            BjÃÂ¶rk|   46|\n",
            "|       Dwight Yoakam|   45|\n",
            "|       Justin Bieber|   43|\n",
            "|      The Black Keys|   40|\n",
            "|         OneRepublic|   37|\n",
            "|        Jack Johnson|   36|\n",
            "|                Muse|   36|\n",
            "|           Radiohead|   31|\n",
            "|        Taylor Swift|   29|\n",
            "|               Train|   28|\n",
            "|Barry Tuckwell/Ac...|   28|\n",
            "|          Lily Allen|   28|\n",
            "|           Metallica|   27|\n",
            "|          Nickelback|   27|\n",
            "|           Daft Punk|   27|\n",
            "|          Kanye West|   26|\n",
            "+--------------------+-----+\n",
            "only showing top 20 rows\n",
            "\n"
          ]
        }
      ]
    },
    {
      "cell_type": "markdown",
      "source": [
        "Es Coldplay"
      ],
      "metadata": {
        "id": "wNfLFfnPawK6"
      }
    },
    {
      "cell_type": "markdown",
      "source": [
        "Analicemos cuántas canciones escuchan de media los usuarios entre visita y visita a página de inicio"
      ],
      "metadata": {
        "id": "9YTOMPMNttlv"
      }
    },
    {
      "cell_type": "code",
      "source": [
        "ishome = udf(lambda page: int(page == 'Home'), IntegerType()) #Marca con 1 cuando aparece home"
      ],
      "metadata": {
        "id": "Hw9WADyagUUN"
      },
      "execution_count": 45,
      "outputs": []
    },
    {
      "cell_type": "code",
      "source": [
        "# Define window function donde particiona por UserId y ordena temporalmente de más reciente a menos\n",
        "user_window = Window \\\n",
        "    .partitionBy('userId') \\\n",
        "    .orderBy(desc('ts')) \\\n",
        "    .rangeBetween(Window.unboundedPreceding, 0)"
      ],
      "metadata": {
        "id": "yYXfd9RIgSqs"
      },
      "execution_count": 46,
      "outputs": []
    },
    {
      "cell_type": "code",
      "source": [
        "# Step 1: Flagea página como homevisit; Step 2: Acumula homevisit como period\n",
        "# En period al sumar cumulativamente hasta que no aparezca un 1 de page = Home, los numeros permanecen igual y así se pueden agrupar después\n",
        "# Con el operador lógico (|) se se serciora solo de coger los eventos de interes pues lo que pasa en los otros eventos no es importante (no dan play canciones)\n",
        "\n",
        "cusum = user_log.where((user_log.page == 'NextSong') | (user_log.page == 'Home')) \\\n",
        "            .select(['userId', 'page', 'ts']) \\\n",
        "            .withColumn('homevisit', ishome('page')) \\\n",
        "            .withColumn('period', Fsum('homevisit').over(user_window))"
      ],
      "metadata": {
        "id": "XWrX5rp6h86K"
      },
      "execution_count": null,
      "outputs": []
    },
    {
      "cell_type": "code",
      "source": [
        "# Step 3: Cuenta period donde page = 'NextSong'. Filtra,os page != 'Home' porque es el límite de cada Home y NextSong\n",
        "# Step 4: Calcula cuántas canciones escuchan de media los usuarios entre que visitan nuestra página de inicio.\n",
        "cusum.where(cusum.page == 'NextSong') \\\n",
        "    .select('*') \\\n",
        "    .groupBy('userId', 'period') \\\n",
        "    .agg({'period': 'count'}) \\\n",
        "    .agg({'count(period)': 'avg'}).show()"
      ],
      "metadata": {
        "colab": {
          "base_uri": "https://localhost:8080/"
        },
        "id": "8DXB1tnhiePJ",
        "outputId": "42c66696-7bd4-47ab-ded6-6c3850d1d6a2"
      },
      "execution_count": null,
      "outputs": [
        {
          "output_type": "stream",
          "name": "stdout",
          "text": [
            "+------------------+\n",
            "|avg(count(period))|\n",
            "+------------------+\n",
            "| 6.898347107438017|\n",
            "+------------------+\n",
            "\n"
          ]
        }
      ]
    },
    {
      "cell_type": "markdown",
      "source": [
        "En media los usuarios escuchan 7 canciones antes de visitar la página de inicio"
      ],
      "metadata": {
        "id": "xk1sm2yIz_QP"
      }
    }
  ]
}