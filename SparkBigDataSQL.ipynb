{
  "nbformat": 4,
  "nbformat_minor": 0,
  "metadata": {
    "colab": {
      "provenance": [],
      "mount_file_id": "1bXi2vGI-ftpHNH_Ef1HnyKbGn3dEHJf0",
      "authorship_tag": "ABX9TyMi7R3Sv0E9w1UOX5Shjbfw"
    },
    "kernelspec": {
      "name": "python3",
      "display_name": "Python 3"
    },
    "language_info": {
      "name": "python"
    }
  },
  "cells": [
    {
      "cell_type": "markdown",
      "source": [
        "Proyecto realizado para el curso fundamentos de Spark para Big Data basado en los contenidos del curso Spark de Udacity:\n",
        "\n",
        "https://www.udacity.com/course/learn-spark-at-udacity--ud2002\n",
        "\n",
        "En este notebook se replican con el SQL API de Spark los resultados obtenidos con el DataFrame API, así que para mejor entendimiento recomendamos revisar primero el otro Notebook:\n",
        "\n",
        "https://github.com/EusseJhoan/ProyectoPlatziSpark/blob/main/SparkBigData.ipynb"
      ],
      "metadata": {
        "id": "O5uq94PL2_Ul"
      }
    },
    {
      "cell_type": "code",
      "source": [
        "!apt-get install openjdk-8-jdk-headless -qq > /dev/null\n",
        "!wget -q http://archive.apache.org/dist/spark/spark-3.1.1/spark-3.1.1-bin-hadoop3.2.tgz\n",
        "!tar xf spark-3.1.1-bin-hadoop3.2.tgz\n",
        "!pip install -q findspark"
      ],
      "metadata": {
        "id": "182PXJ10L_ub"
      },
      "execution_count": null,
      "outputs": []
    },
    {
      "cell_type": "code",
      "source": [
        "import os\n",
        "os.environ[\"JAVA_HOME\"] = \"/usr/lib/jvm/java-8-openjdk-amd64\"\n",
        "os.environ[\"SPARK_HOME\"] = \"/content/spark-3.1.1-bin-hadoop3.2\""
      ],
      "metadata": {
        "id": "M5BvX6ZjMEA_"
      },
      "execution_count": null,
      "outputs": []
    },
    {
      "cell_type": "code",
      "source": [
        "import findspark\n",
        "findspark.init()"
      ],
      "metadata": {
        "id": "Q3jvFp62MZaj"
      },
      "execution_count": null,
      "outputs": []
    },
    {
      "cell_type": "code",
      "execution_count": null,
      "metadata": {
        "id": "1NWCvINrKgl8"
      },
      "outputs": [],
      "source": [
        "from pyspark.sql import SparkSession\n",
        "from pyspark.sql.functions import udf\n",
        "from pyspark.sql.types import StringType\n",
        "from pyspark.sql.types import IntegerType\n",
        "from pyspark.sql.functions import desc\n",
        "from pyspark.sql.functions import asc\n",
        "from pyspark.sql.functions import sum as Fsum\n",
        "\n",
        "import datetime\n",
        "\n",
        "import numpy as np\n",
        "import pandas as pd\n",
        "%matplotlib inline\n",
        "import matplotlib.pyplot as plt"
      ]
    },
    {
      "cell_type": "code",
      "source": [
        "spark = SparkSession \\\n",
        "    .builder \\\n",
        "    .appName(\"ProyectoSQL\") \\\n",
        "    .getOrCreate()"
      ],
      "metadata": {
        "id": "WMZMzUWiMTdp"
      },
      "execution_count": null,
      "outputs": []
    },
    {
      "cell_type": "code",
      "source": [
        "path = \"drive/MyDrive/sparkify_log_small.json\" #Ruta de archivo de donde se cargara datos\n",
        "user_log = spark.read.json(path) #cargar los datos (JSON)"
      ],
      "metadata": {
        "id": "PSLVUt5YMkf8"
      },
      "execution_count": null,
      "outputs": []
    },
    {
      "cell_type": "code",
      "source": [
        "#Toca usarlo para poder usar queries de SQL en pySpark, se pone en argumento el nombre que se dará a la tabla para llamarla en FROM\n",
        "user_log.createOrReplaceTempView(\"user_log_table\")"
      ],
      "metadata": {
        "id": "tb9Yp0E_M0Nm"
      },
      "execution_count": null,
      "outputs": []
    },
    {
      "cell_type": "code",
      "source": [
        "spark.sql(\"\"\"\n",
        "SELECT DISTINCT page\n",
        "FROM user_log_table\n",
        "ORDER BY page\n",
        "\"\"\").show()"
      ],
      "metadata": {
        "colab": {
          "base_uri": "https://localhost:8080/"
        },
        "id": "emi9BgCkOrE-",
        "outputId": "4d471551-0b94-4007-9eb3-15b16f7d35d4"
      },
      "execution_count": null,
      "outputs": [
        {
          "output_type": "stream",
          "name": "stdout",
          "text": [
            "+----------------+\n",
            "|            page|\n",
            "+----------------+\n",
            "|           About|\n",
            "|       Downgrade|\n",
            "|           Error|\n",
            "|            Help|\n",
            "|            Home|\n",
            "|           Login|\n",
            "|          Logout|\n",
            "|        NextSong|\n",
            "|   Save Settings|\n",
            "|        Settings|\n",
            "|Submit Downgrade|\n",
            "|  Submit Upgrade|\n",
            "|         Upgrade|\n",
            "+----------------+\n",
            "\n"
          ]
        }
      ]
    },
    {
      "cell_type": "code",
      "source": [
        "#Filtra para el usuario 1046 el registro con esas 4 columnas\n",
        "spark.sql(\"\"\"\n",
        "SELECT userId, firstname, page, song\n",
        "FROM user_log_table\n",
        "WHERE userId == \"1046\"\n",
        "\"\"\").collect()"
      ],
      "metadata": {
        "colab": {
          "base_uri": "https://localhost:8080/"
        },
        "id": "xpz5-q95PYS1",
        "outputId": "e462152e-9c7a-4896-f937-b0a19179ed76"
      },
      "execution_count": null,
      "outputs": [
        {
          "output_type": "execute_result",
          "data": {
            "text/plain": [
              "[Row(userId='1046', firstname='Kenneth', page='NextSong', song='Christmas Tears Will Fall'),\n",
              " Row(userId='1046', firstname='Kenneth', page='NextSong', song='Be Wary Of A Woman'),\n",
              " Row(userId='1046', firstname='Kenneth', page='NextSong', song='Public Enemy No.1'),\n",
              " Row(userId='1046', firstname='Kenneth', page='NextSong', song='Reign Of The Tyrants'),\n",
              " Row(userId='1046', firstname='Kenneth', page='NextSong', song='Father And Son'),\n",
              " Row(userId='1046', firstname='Kenneth', page='NextSong', song='No. 5'),\n",
              " Row(userId='1046', firstname='Kenneth', page='NextSong', song='Seventeen'),\n",
              " Row(userId='1046', firstname='Kenneth', page='Home', song=None),\n",
              " Row(userId='1046', firstname='Kenneth', page='NextSong', song='War on war'),\n",
              " Row(userId='1046', firstname='Kenneth', page='NextSong', song='Killermont Street'),\n",
              " Row(userId='1046', firstname='Kenneth', page='NextSong', song='Black & Blue'),\n",
              " Row(userId='1046', firstname='Kenneth', page='Logout', song=None),\n",
              " Row(userId='1046', firstname='Kenneth', page='Home', song=None),\n",
              " Row(userId='1046', firstname='Kenneth', page='NextSong', song='Heads Will Roll'),\n",
              " Row(userId='1046', firstname='Kenneth', page='NextSong', song='Bleed It Out [Live At Milton Keynes]'),\n",
              " Row(userId='1046', firstname='Kenneth', page='NextSong', song='Clocks'),\n",
              " Row(userId='1046', firstname='Kenneth', page='NextSong', song='Love Rain'),\n",
              " Row(userId='1046', firstname='Kenneth', page='NextSong', song=\"Ry Ry's Song (Album Version)\"),\n",
              " Row(userId='1046', firstname='Kenneth', page='NextSong', song='The Invisible Man'),\n",
              " Row(userId='1046', firstname='Kenneth', page='NextSong', song='Catch You Baby (Steve Pitron & Max Sanna Radio Edit)'),\n",
              " Row(userId='1046', firstname='Kenneth', page='NextSong', song='Ask The Mountains'),\n",
              " Row(userId='1046', firstname='Kenneth', page='NextSong', song='Given Up (Album Version)'),\n",
              " Row(userId='1046', firstname='Kenneth', page='NextSong', song='El Cuatrero'),\n",
              " Row(userId='1046', firstname='Kenneth', page='NextSong', song='Hero/Heroine'),\n",
              " Row(userId='1046', firstname='Kenneth', page='NextSong', song='Spring'),\n",
              " Row(userId='1046', firstname='Kenneth', page='NextSong', song='Rising Moon'),\n",
              " Row(userId='1046', firstname='Kenneth', page='NextSong', song='Tough Little Boys'),\n",
              " Row(userId='1046', firstname='Kenneth', page='NextSong', song=\"Qu'Est-Ce Que T'Es Belle\"),\n",
              " Row(userId='1046', firstname='Kenneth', page='NextSong', song='Secrets'),\n",
              " Row(userId='1046', firstname='Kenneth', page='NextSong', song='Under The Gun')]"
            ]
          },
          "metadata": {},
          "execution_count": 9
        }
      ]
    },
    {
      "cell_type": "code",
      "source": [
        "#Funcion para obtener la hora de una columna\n",
        "spark.udf.register(\"get_hour\",lambda x: datetime.datetime.fromtimestamp(x / 1000.0). hour)\n",
        "\n",
        "#Recordar que en la lógica de DataFrames usabamos\n",
        "#get_hour = udf(lambda x: datetime.datetime.fromtimestamp(x / 1000.0). hour)"
      ],
      "metadata": {
        "colab": {
          "base_uri": "https://localhost:8080/"
        },
        "id": "lfPMULx_RPxe",
        "outputId": "c3fa5d41-9ef5-46da-c1f0-120b1108830d"
      },
      "execution_count": null,
      "outputs": [
        {
          "output_type": "execute_result",
          "data": {
            "text/plain": [
              "<function __main__.<lambda>(x)>"
            ]
          },
          "metadata": {},
          "execution_count": 10
        }
      ]
    },
    {
      "cell_type": "code",
      "source": [
        "spark.sql(\"\"\"\n",
        "              SELECT *, get_hour(ts) AS hour\n",
        "              FROM user_log_table\n",
        "          \"\"\").head()"
      ],
      "metadata": {
        "colab": {
          "base_uri": "https://localhost:8080/"
        },
        "id": "I7C-gthZRzsW",
        "outputId": "6f4f6813-7e06-4f23-9062-e5418fabff47"
      },
      "execution_count": null,
      "outputs": [
        {
          "output_type": "execute_result",
          "data": {
            "text/plain": [
              "Row(artist='Showaddywaddy', auth='Logged In', firstName='Kenneth', gender='M', itemInSession=112, lastName='Matthews', length=232.93342, level='paid', location='Charlotte-Concord-Gastonia, NC-SC', method='PUT', page='NextSong', registration=1509380319284, sessionId=5132, song='Christmas Tears Will Fall', status=200, ts=1513720872284, userAgent='\"Mozilla/5.0 (Windows NT 6.1) AppleWebKit/537.36 (KHTML, like Gecko) Chrome/36.0.1985.125 Safari/537.36\"', userId='1046', hour='22')"
            ]
          },
          "metadata": {},
          "execution_count": 11
        }
      ]
    },
    {
      "cell_type": "code",
      "source": [
        "#Filter rows with WHERE condition, group by hour, counting rows in eacch group and order by hour\n",
        "songs_in_hour= spark.sql(\"\"\"\n",
        "              SELECT get_hour(ts) AS hour, COUNT(*) AS count\n",
        "              FROM user_log_table\n",
        "              WHERE page == \"NextSong\"\n",
        "              GROUP BY hour\n",
        "              ORDER BY cast(hour as int)\n",
        "          \"\"\")\n",
        "\n",
        "songs_in_hour.show()"
      ],
      "metadata": {
        "colab": {
          "base_uri": "https://localhost:8080/"
        },
        "id": "AU-HlNM6T_1T",
        "outputId": "a584f9e8-c417-4729-a72b-a05610db9a8e"
      },
      "execution_count": null,
      "outputs": [
        {
          "output_type": "stream",
          "name": "stdout",
          "text": [
            "+----+-----+\n",
            "|hour|count|\n",
            "+----+-----+\n",
            "|   0|  456|\n",
            "|   1|  454|\n",
            "|   2|  382|\n",
            "|   3|  302|\n",
            "|   4|  352|\n",
            "|   5|  276|\n",
            "|   6|  348|\n",
            "|   7|  358|\n",
            "|   8|  375|\n",
            "|   9|  249|\n",
            "|  10|  216|\n",
            "|  11|  228|\n",
            "|  12|  251|\n",
            "|  13|  339|\n",
            "|  14|  462|\n",
            "|  15|  479|\n",
            "|  16|  484|\n",
            "|  17|  430|\n",
            "|  18|  362|\n",
            "|  19|  295|\n",
            "+----+-----+\n",
            "only showing top 20 rows\n",
            "\n"
          ]
        }
      ]
    },
    {
      "cell_type": "code",
      "source": [
        "songs_in_hour_pd = songs_in_hour.toPandas() #convert to pandas dataframe\n",
        "songs_in_hour_pd.hour = pd.to_numeric(songs_in_hour_pd.hour) #convert elements of hour column in numbers type (a good practice to apply always)"
      ],
      "metadata": {
        "id": "wW3zrzgtXAYR"
      },
      "execution_count": null,
      "outputs": []
    },
    {
      "cell_type": "code",
      "source": [
        "plt.scatter(songs_in_hour_pd[\"hour\"], songs_in_hour_pd[\"count\"])\n",
        "plt.xlim(-1, 24);\n",
        "plt.ylim(0, 1.2 * max(songs_in_hour_pd[\"count\"]))\n",
        "plt.xlabel(\"Hour\")\n",
        "plt.ylabel(\"Songs played\");"
      ],
      "metadata": {
        "colab": {
          "base_uri": "https://localhost:8080/",
          "height": 449
        },
        "id": "06qcYIZ3YXhQ",
        "outputId": "05e6b3d7-79ed-4617-c272-ee6dbe0cbd58"
      },
      "execution_count": null,
      "outputs": [
        {
          "output_type": "display_data",
          "data": {
            "text/plain": [
              "<Figure size 640x480 with 1 Axes>"
            ],
            "image/png": "[encoded data removed]"
          },
          "metadata": {}
        }
      ]
    },
    {
      "cell_type": "code",
      "source": [
        "user_log_valid= spark.sql(\"\"\"\n",
        "                              SELECT *\n",
        "                              FROM user_log_table\n",
        "                              WHERE userId IS NOT NULL AND sessionId IS NOT NULL;\n",
        "                          \"\"\")"
      ],
      "metadata": {
        "id": "MM6l0eqKYhrT"
      },
      "execution_count": null,
      "outputs": []
    },
    {
      "cell_type": "code",
      "source": [
        "user_log_valid.count()"
      ],
      "metadata": {
        "colab": {
          "base_uri": "https://localhost:8080/"
        },
        "id": "Ucj5MO_QZljj",
        "outputId": "e2a36e84-600a-4d93-d98c-5bd6dc47a198"
      },
      "execution_count": null,
      "outputs": [
        {
          "output_type": "execute_result",
          "data": {
            "text/plain": [
              "10000"
            ]
          },
          "metadata": {},
          "execution_count": 16
        }
      ]
    },
    {
      "cell_type": "code",
      "source": [
        "spark.sql(\"\"\" WITH valid AS\n",
        "              (\n",
        "              SELECT *\n",
        "              FROM user_log_table\n",
        "              WHERE userId IS NOT NULL AND sessionId IS NOT NULL\n",
        "              )\n",
        "\n",
        "              SELECT DISTINCT userId\n",
        "              FROM valid\n",
        "              ORDER BY userId\n",
        "          \"\"\").show()"
      ],
      "metadata": {
        "colab": {
          "base_uri": "https://localhost:8080/"
        },
        "id": "k2xqx4iKZoyJ",
        "outputId": "ba2c1e30-63fa-4720-ad70-5456b61a9764"
      },
      "execution_count": null,
      "outputs": [
        {
          "output_type": "stream",
          "name": "stdout",
          "text": [
            "+------+\n",
            "|userId|\n",
            "+------+\n",
            "|      |\n",
            "|    10|\n",
            "|   100|\n",
            "|  1000|\n",
            "|  1003|\n",
            "|  1005|\n",
            "|  1006|\n",
            "|  1017|\n",
            "|  1019|\n",
            "|  1020|\n",
            "|  1022|\n",
            "|  1025|\n",
            "|  1030|\n",
            "|  1035|\n",
            "|  1037|\n",
            "|   104|\n",
            "|  1040|\n",
            "|  1042|\n",
            "|  1043|\n",
            "|  1046|\n",
            "+------+\n",
            "only showing top 20 rows\n",
            "\n"
          ]
        }
      ]
    },
    {
      "cell_type": "code",
      "source": [
        "user_log_valid= spark.sql(\"\"\"\n",
        "                WITH valid AS\n",
        "                (\n",
        "                SELECT *\n",
        "                FROM user_log_table\n",
        "                WHERE userId IS NOT NULL AND sessionId IS NOT NULL\n",
        "                )\n",
        "\n",
        "                SELECT *\n",
        "                FROM valid\n",
        "                WHERE userId != \"\"\n",
        "            \"\"\")\n",
        "\n",
        "#Como va a ser un dataset muy usado lo guardo por aparte para después usarlo\n",
        "user_log_valid.count()"
      ],
      "metadata": {
        "colab": {
          "base_uri": "https://localhost:8080/"
        },
        "id": "PTyQypF8a2Ne",
        "outputId": "7fdcf5e2-8e67-4ef0-e61f-ad2f2a6fc479"
      },
      "execution_count": null,
      "outputs": [
        {
          "output_type": "execute_result",
          "data": {
            "text/plain": [
              "9664"
            ]
          },
          "metadata": {},
          "execution_count": 18
        }
      ]
    },
    {
      "cell_type": "code",
      "source": [
        "user_log_valid=spark.sql(\"\"\"\n",
        "                WITH valid AS\n",
        "                (\n",
        "                SELECT *\n",
        "                FROM user_log_table\n",
        "                WHERE userId IS NOT NULL AND sessionId IS NOT NULL\n",
        "                ),\n",
        "\n",
        "                valid_clean AS\n",
        "                (\n",
        "                SELECT *\n",
        "                FROM valid\n",
        "                WHERE userId != \"\"\n",
        "                )\n",
        "\n",
        "                SELECT *\n",
        "                FROM valid_clean\n",
        "                WHERE page == 'Submit Downgrade'\n",
        "\n",
        "            \"\"\")\n",
        "\n",
        "user_log_valid.show()"
      ],
      "metadata": {
        "colab": {
          "base_uri": "https://localhost:8080/"
        },
        "id": "RqKHDCVHkd-Q",
        "outputId": "d1e64b1a-8464-49e5-a330-94362c259592"
      },
      "execution_count": null,
      "outputs": [
        {
          "output_type": "stream",
          "name": "stdout",
          "text": [
            "+------+---------+---------+------+-------------+--------+------+-----+--------------------+------+----------------+-------------+---------+----+------+-------------+--------------------+------+\n",
            "|artist|     auth|firstName|gender|itemInSession|lastName|length|level|            location|method|            page| registration|sessionId|song|status|           ts|           userAgent|userId|\n",
            "+------+---------+---------+------+-------------+--------+------+-----+--------------------+------+----------------+-------------+---------+----+------+-------------+--------------------+------+\n",
            "|  null|Logged In|    Kelly|     F|           24|  Newton|  null| paid|Houston-The Woodl...|   PUT|Submit Downgrade|1513283366284|     5931|null|   307|1513768454284|Mozilla/5.0 (Wind...|  1138|\n",
            "+------+---------+---------+------+-------------+--------+------+-----+--------------------+------+----------------+-------------+---------+----+------+-------------+--------------------+------+\n",
            "\n"
          ]
        }
      ]
    },
    {
      "cell_type": "code",
      "source": [
        "#Muestra las columnas señaladas para el userId en específico\n",
        "spark.sql(\"\"\"\n",
        "                SELECT userId, firstname, page, level, song\n",
        "                FROM user_log_table\n",
        "                WHERE userId == 1138\n",
        "\n",
        "            \"\"\").collect()"
      ],
      "metadata": {
        "colab": {
          "base_uri": "https://localhost:8080/"
        },
        "id": "_pAmINlklOUD",
        "outputId": "051e2d97-87d9-4670-9396-6721c312171a"
      },
      "execution_count": null,
      "outputs": [
        {
          "output_type": "execute_result",
          "data": {
            "text/plain": [
              "[Row(userId='1138', firstname='Kelly', page='Home', level='paid', song=None),\n",
              " Row(userId='1138', firstname='Kelly', page='NextSong', level='paid', song='Everybody Everybody'),\n",
              " Row(userId='1138', firstname='Kelly', page='NextSong', level='paid', song='Gears'),\n",
              " Row(userId='1138', firstname='Kelly', page='NextSong', level='paid', song='Use Somebody'),\n",
              " Row(userId='1138', firstname='Kelly', page='NextSong', level='paid', song='Love Of My Life (1993 Digital Remaster)'),\n",
              " Row(userId='1138', firstname='Kelly', page='NextSong', level='paid', song='Down In The Valley Woe'),\n",
              " Row(userId='1138', firstname='Kelly', page='NextSong', level='paid', song='Treat Her Like A Lady'),\n",
              " Row(userId='1138', firstname='Kelly', page='NextSong', level='paid', song=\"Everybody Thinks You're An Angel\"),\n",
              " Row(userId='1138', firstname='Kelly', page='NextSong', level='paid', song='Fourteen Wives'),\n",
              " Row(userId='1138', firstname='Kelly', page='NextSong', level='paid', song='Love On The Rocks'),\n",
              " Row(userId='1138', firstname='Kelly', page='NextSong', level='paid', song='Breakeven'),\n",
              " Row(userId='1138', firstname='Kelly', page='NextSong', level='paid', song='Leaf House'),\n",
              " Row(userId='1138', firstname='Kelly', page='NextSong', level='paid', song='NAISEN KANSSA'),\n",
              " Row(userId='1138', firstname='Kelly', page='NextSong', level='paid', song=\"You're In My Heart\"),\n",
              " Row(userId='1138', firstname='Kelly', page='NextSong', level='paid', song='Roll On Down The Highway'),\n",
              " Row(userId='1138', firstname='Kelly', page='NextSong', level='paid', song='Plasticities (Remix)'),\n",
              " Row(userId='1138', firstname='Kelly', page='NextSong', level='paid', song='Secrets'),\n",
              " Row(userId='1138', firstname='Kelly', page='NextSong', level='paid', song='Hello'),\n",
              " Row(userId='1138', firstname='Kelly', page='NextSong', level='paid', song='I Never Told You'),\n",
              " Row(userId='1138', firstname='Kelly', page='NextSong', level='paid', song='Love Break Me'),\n",
              " Row(userId='1138', firstname='Kelly', page='NextSong', level='paid', song='One Touch One Bounce'),\n",
              " Row(userId='1138', firstname='Kelly', page='NextSong', level='paid', song='Undo'),\n",
              " Row(userId='1138', firstname='Kelly', page='NextSong', level='paid', song='Overdue (Blackbeard Remix)'),\n",
              " Row(userId='1138', firstname='Kelly', page='NextSong', level='paid', song='Slave To Love (1999 Digital Remaster)'),\n",
              " Row(userId='1138', firstname='Kelly', page='NextSong', level='paid', song='Stronger'),\n",
              " Row(userId='1138', firstname='Kelly', page='NextSong', level='paid', song='All Of Us (Album Version)'),\n",
              " Row(userId='1138', firstname='Kelly', page='NextSong', level='paid', song='Sehr kosmisch'),\n",
              " Row(userId='1138', firstname='Kelly', page='NextSong', level='paid', song='March Of The Celts'),\n",
              " Row(userId='1138', firstname='Kelly', page='NextSong', level='paid', song='Electricity'),\n",
              " Row(userId='1138', firstname='Kelly', page='NextSong', level='paid', song='Aces High'),\n",
              " Row(userId='1138', firstname='Kelly', page='NextSong', level='paid', song='Bananeira'),\n",
              " Row(userId='1138', firstname='Kelly', page='NextSong', level='paid', song='The General'),\n",
              " Row(userId='1138', firstname='Kelly', page='NextSong', level='paid', song='HÃ\\x83Â©roe De Leyenda (VersiÃ\\x83Â³n Maxi)'),\n",
              " Row(userId='1138', firstname='Kelly', page='NextSong', level='paid', song=\"Don't Stop The Music\"),\n",
              " Row(userId='1138', firstname='Kelly', page='NextSong', level='paid', song=\"You're The One\"),\n",
              " Row(userId='1138', firstname='Kelly', page='NextSong', level='paid', song='Entering White Cecilia'),\n",
              " Row(userId='1138', firstname='Kelly', page='NextSong', level='paid', song='Piccolo Cesare'),\n",
              " Row(userId='1138', firstname='Kelly', page='Help', level='paid', song=None),\n",
              " Row(userId='1138', firstname='Kelly', page='NextSong', level='paid', song='Last Christmas (Album Version)'),\n",
              " Row(userId='1138', firstname='Kelly', page='NextSong', level='paid', song='You Shook Me'),\n",
              " Row(userId='1138', firstname='Kelly', page='NextSong', level='paid', song='Going Steady'),\n",
              " Row(userId='1138', firstname='Kelly', page='NextSong', level='paid', song='My Name Is'),\n",
              " Row(userId='1138', firstname='Kelly', page='NextSong', level='paid', song='Undo'),\n",
              " Row(userId='1138', firstname='Kelly', page='NextSong', level='paid', song='Secrets'),\n",
              " Row(userId='1138', firstname='Kelly', page='NextSong', level='paid', song='Good Times Gone (Album Version)'),\n",
              " Row(userId='1138', firstname='Kelly', page='NextSong', level='paid', song='Angelito'),\n",
              " Row(userId='1138', firstname='Kelly', page='NextSong', level='paid', song='Batdance ( LP Version )'),\n",
              " Row(userId='1138', firstname='Kelly', page='Home', level='paid', song=None),\n",
              " Row(userId='1138', firstname='Kelly', page='NextSong', level='paid', song='DiÃ\\x83Â¡kdal'),\n",
              " Row(userId='1138', firstname='Kelly', page='NextSong', level='paid', song='Whirring'),\n",
              " Row(userId='1138', firstname='Kelly', page='NextSong', level='paid', song='Potholderz (feat. Count Bass D)'),\n",
              " Row(userId='1138', firstname='Kelly', page='NextSong', level='paid', song='Seaside'),\n",
              " Row(userId='1138', firstname='Kelly', page='NextSong', level='paid', song='Louder Than A Bomb'),\n",
              " Row(userId='1138', firstname='Kelly', page='NextSong', level='paid', song='Just Like You'),\n",
              " Row(userId='1138', firstname='Kelly', page='NextSong', level='paid', song=\"You're The One\"),\n",
              " Row(userId='1138', firstname='Kelly', page='NextSong', level='paid', song='Turn It Again (Album Version)'),\n",
              " Row(userId='1138', firstname='Kelly', page='NextSong', level='paid', song='Everywhere I Go'),\n",
              " Row(userId='1138', firstname='Kelly', page='NextSong', level='paid', song=\"Easy Skankin'\"),\n",
              " Row(userId='1138', firstname='Kelly', page='NextSong', level='paid', song='Roses'),\n",
              " Row(userId='1138', firstname='Kelly', page='NextSong', level='paid', song='Killing Me Softly With His Song'),\n",
              " Row(userId='1138', firstname='Kelly', page='NextSong', level='paid', song='The Razor (Album Version)'),\n",
              " Row(userId='1138', firstname='Kelly', page='NextSong', level='paid', song='Idols and Anchors'),\n",
              " Row(userId='1138', firstname='Kelly', page='Downgrade', level='paid', song=None),\n",
              " Row(userId='1138', firstname='Kelly', page='Submit Downgrade', level='paid', song=None),\n",
              " Row(userId='1138', firstname='Kelly', page='Home', level='free', song=None),\n",
              " Row(userId='1138', firstname='Kelly', page='NextSong', level='free', song='Bones'),\n",
              " Row(userId='1138', firstname='Kelly', page='Home', level='free', song=None),\n",
              " Row(userId='1138', firstname='Kelly', page='NextSong', level='free', song='Grenouilles Mantidactylus (Small Frogs)')]"
            ]
          },
          "metadata": {},
          "execution_count": 20
        }
      ]
    },
    {
      "cell_type": "code",
      "source": [
        "#funcion lambda para marcar evento de downgrade. Devuelve 1 si en la columna page el aparece Submit Downgrade sino\n",
        "spark.udf.register(\"flag_downgrade_event\",lambda x: 1 if x == \"Submit Downgrade\" else 0, IntegerType()) #El IntegerType lo pasa a entero"
      ],
      "metadata": {
        "colab": {
          "base_uri": "https://localhost:8080/"
        },
        "id": "TVigQEkBoFeq",
        "outputId": "e0311800-30f0-41ac-8332-8fcbdc2508e4"
      },
      "execution_count": null,
      "outputs": [
        {
          "output_type": "execute_result",
          "data": {
            "text/plain": [
              "<function __main__.<lambda>(x)>"
            ]
          },
          "metadata": {},
          "execution_count": 21
        }
      ]
    },
    {
      "cell_type": "code",
      "source": [
        "#Creo tabla de user_log_valid para poder trabajarla con los queries de SQL\n",
        "user_log_valid.createOrReplaceTempView(\"user_log_valid_table\")"
      ],
      "metadata": {
        "id": "z8imOEbEq6pO"
      },
      "execution_count": null,
      "outputs": []
    },
    {
      "cell_type": "code",
      "source": [
        "#Crea fase con suma cumulativa\n",
        "spark.sql(\"\"\"\n",
        "                WITH flaged AS\n",
        "                (\n",
        "                SELECT userId, firstname, ts, page, level, flag_downgrade_event(page) AS downgraded\n",
        "                FROM user_log_valid_table\n",
        "                )\n",
        "\n",
        "                SELECT *,\n",
        "                  SUM(downgraded)\n",
        "                    OVER(\n",
        "                        PARTITION BY userId\n",
        "                        ORDER BY ts DESC\n",
        "                        ) AS phase\n",
        "                FROM flaged\n",
        "                WHERE userId == \"1138\"\n",
        "                ORDER BY ts\n",
        "            \"\"\").collect()"
      ],
      "metadata": {
        "colab": {
          "base_uri": "https://localhost:8080/"
        },
        "id": "QCPq9MbLo5dZ",
        "outputId": "6652be2c-662d-4e05-812a-b826b068eef4"
      },
      "execution_count": null,
      "outputs": [
        {
          "output_type": "execute_result",
          "data": {
            "text/plain": [
              "[Row(userId='1138', firstname='Kelly', ts=1513768454284, page='Submit Downgrade', level='paid', downgraded=1, phase=1)]"
            ]
          },
          "metadata": {},
          "execution_count": 23
        }
      ]
    },
    {
      "cell_type": "code",
      "source": [
        "spark.sql(\"\"\"\n",
        "            SElECT DISTINCT page\n",
        "            FROM user_log_table\n",
        "            WHERE userId == \"\"\n",
        "            ORDER BY page\n",
        "          \"\"\"\n",
        "         ).show()"
      ],
      "metadata": {
        "colab": {
          "base_uri": "https://localhost:8080/"
        },
        "id": "8MileKLbfNpG",
        "outputId": "2e09cd73-7f58-492a-ac12-9d8421315e00"
      },
      "execution_count": null,
      "outputs": [
        {
          "output_type": "stream",
          "name": "stdout",
          "text": [
            "+-----+\n",
            "| page|\n",
            "+-----+\n",
            "|About|\n",
            "| Help|\n",
            "| Home|\n",
            "|Login|\n",
            "+-----+\n",
            "\n"
          ]
        }
      ]
    },
    {
      "cell_type": "code",
      "source": [
        "#condiciona a solo mujeres, las agrupa por UserId y cuenta las rows en cada grupo de UserId\n",
        "#Así al contar después con .count() las rows del dataset resultante suma 1 por cada UserId\n",
        "\n",
        "spark.sql(\"\"\"\n",
        "\n",
        "            SELECT COUNT(*)\n",
        "            FROM user_log_table\n",
        "            WHERE gender == \"F\"\n",
        "            GROUP BY UserId\n",
        "\n",
        "          \"\"\"\n",
        "         ).count()"
      ],
      "metadata": {
        "colab": {
          "base_uri": "https://localhost:8080/"
        },
        "id": "eJSGo2Zqgl-G",
        "outputId": "2692121b-9f23-490b-a09c-3cb2a425f0ae"
      },
      "execution_count": null,
      "outputs": [
        {
          "output_type": "execute_result",
          "data": {
            "text/plain": [
              "462"
            ]
          },
          "metadata": {},
          "execution_count": 24
        }
      ]
    },
    {
      "cell_type": "code",
      "source": [
        "spark.sql(\"\"\"\n",
        "\n",
        "            SELECT artist, COUNT(*) as freq\n",
        "            FROM user_log_table\n",
        "            GROUP BY artist\n",
        "            ORDER BY freq DESC\n",
        "\n",
        "          \"\"\"\n",
        "         ).show()"
      ],
      "metadata": {
        "colab": {
          "base_uri": "https://localhost:8080/"
        },
        "id": "DvEilZEVV5J3",
        "outputId": "14bb9b52-c55e-4aae-f549-1e27889b8d4d"
      },
      "execution_count": null,
      "outputs": [
        {
          "output_type": "stream",
          "name": "stdout",
          "text": [
            "+--------------------+----+\n",
            "|              artist|freq|\n",
            "+--------------------+----+\n",
            "|                null|1653|\n",
            "|            Coldplay|  83|\n",
            "|       Kings Of Leon|  69|\n",
            "|Florence + The Ma...|  52|\n",
            "|            BjÃÂ¶rk|  46|\n",
            "|       Dwight Yoakam|  45|\n",
            "|       Justin Bieber|  43|\n",
            "|      The Black Keys|  40|\n",
            "|         OneRepublic|  37|\n",
            "|        Jack Johnson|  36|\n",
            "|                Muse|  36|\n",
            "|           Radiohead|  31|\n",
            "|        Taylor Swift|  29|\n",
            "|          Lily Allen|  28|\n",
            "|               Train|  28|\n",
            "|Barry Tuckwell/Ac...|  28|\n",
            "|          Nickelback|  27|\n",
            "|           Metallica|  27|\n",
            "|           Daft Punk|  27|\n",
            "|          Kanye West|  26|\n",
            "+--------------------+----+\n",
            "only showing top 20 rows\n",
            "\n"
          ]
        }
      ]
    },
    {
      "cell_type": "code",
      "source": [
        " spark.udf.register(\"ishome\", lambda page: int(page == 'Home'), IntegerType())"
      ],
      "metadata": {
        "id": "SK-VKbLfo-WQ",
        "colab": {
          "base_uri": "https://localhost:8080/"
        },
        "outputId": "e6e81c97-3696-4e00-e32a-d1a5ed1e1dcb"
      },
      "execution_count": null,
      "outputs": [
        {
          "output_type": "execute_result",
          "data": {
            "text/plain": [
              "<function __main__.<lambda>(page)>"
            ]
          },
          "metadata": {},
          "execution_count": 26
        }
      ]
    },
    {
      "cell_type": "code",
      "source": [
        "spark.sql(\"\"\"\n",
        "              WITH flaged AS\n",
        "              (\n",
        "                SELECT userId, page, ts, ishome(page) AS homevisit\n",
        "                FROM user_log_table\n",
        "                WHERE page == \"NextSong\" OR page=\"Home\"\n",
        "              ),\n",
        "\n",
        "              perioded AS\n",
        "              (\n",
        "                SELECT *,\n",
        "                SUM(homevisit)\n",
        "                  OVER(\n",
        "                        PARTITION BY userId\n",
        "                        ORDER BY ts DESC\n",
        "                      ) AS period\n",
        "                FROM flaged\n",
        "              ),\n",
        "\n",
        "              counted AS\n",
        "              (\n",
        "                SELECT userId, period, COUNT(period) AS freq_period\n",
        "                FROM perioded\n",
        "                WHERE page == \"NextSong\"\n",
        "                GROUP BY userId, period\n",
        "              )\n",
        "\n",
        "              SELECT AVG(freq_period) AS avg\n",
        "              FROM counted\n",
        "          \"\"\"\n",
        "         ).show()"
      ],
      "metadata": {
        "id": "pK2iTio6ps6j",
        "colab": {
          "base_uri": "https://localhost:8080/"
        },
        "outputId": "21dafb15-3a05-4be8-b320-a2272e2f6952"
      },
      "execution_count": null,
      "outputs": [
        {
          "output_type": "stream",
          "name": "stdout",
          "text": [
            "+-----------------+\n",
            "|              avg|\n",
            "+-----------------+\n",
            "|6.898347107438017|\n",
            "+-----------------+\n",
            "\n"
          ]
        }
      ]
    }
  ]
}